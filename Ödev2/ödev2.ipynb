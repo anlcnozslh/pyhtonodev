{
 "cells": [
  {
   "cell_type": "code",
   "execution_count": null,
   "metadata": {},
   "outputs": [],
   "source": [
    "\n",
    "user = []\n",
    "\n",
    "for i in range(4):\n",
    "    name = str(input(\"Enter your name: \"))\n",
    "    surname = str(input(\"Enter your surname: \"))\n",
    "    age = int(input(\"Enter your age: \"))\n",
    "    bday = int(input(\"Enter your birthday: \"))\n",
    "    user.append([name,surname,age,bday])\n",
    "\n",
    "for i in range(4):\n",
    "    if user[i][2] < 18:\n",
    "        print(user[i][0],user[i][1],\"You can't go out because it's too dangerous\")\n",
    "    else:\n",
    "        print(user[i][0],user[i][1],\"You can go out to the street\")"
   ]
  }
 ],
 "metadata": {
  "kernelspec": {
   "display_name": "Python 3",
   "language": "python",
   "name": "python3"
  },
  "language_info": {
   "codemirror_mode": {
    "name": "ipython",
    "version": 3
   },
   "file_extension": ".py",
   "mimetype": "text/x-python",
   "name": "python",
   "nbconvert_exporter": "python",
   "pygments_lexer": "ipython3",
   "version": "3.8.5"
  }
 },
 "nbformat": 4,
 "nbformat_minor": 4
}
