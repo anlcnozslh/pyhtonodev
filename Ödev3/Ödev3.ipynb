{
 "cells": [
  {
   "cell_type": "code",
   "execution_count": null,
   "metadata": {},
   "outputs": [],
   "source": [
    "def kaçıncıindex(a,b):\n",
    "    if a in b:\n",
    "        c=b.index(a)\n",
    "        return c\n",
    "    \n",
    "    \n",
    "\n",
    "print(\"Adam Asmaca Oyununa Hoş Geldiniz\")\n",
    "x = input(\"İsminizi giriniz: \")\n",
    "print(\"Hoşgeldin\",x)\n",
    "print(\"Kelimeyi tahmin etmeye çalışırken 3 hakkın olucak 3 kere yanlış cevap verirsen eğer oyunu kaybediceksin\")\n",
    "\n",
    "life = 3\n",
    "liste= [\"_\",\"_\",\"_\",\"_\",\"_\"]\n",
    "liste1 = [\"a\",\"r\",\"m\",\"u\",\"t\"]\n",
    "word = \"armut\"\n",
    "i = 5\n",
    "while life > 0:\n",
    "    guess = input(\"Tahmininizi giriniz: \")\n",
    "    \n",
    "    if guess in word:\n",
    "            a = kaçıncıindex(guess,word)\n",
    "            liste[a] = guess\n",
    "            print(\"Bravo doğru tahmin\")\n",
    "            print(liste)\n",
    "            if liste == liste1:\n",
    "                break\n",
    "        \n",
    "    else:\n",
    "        print(\"Tekrar deneyiniz\")\n",
    "        print(\"Bir hakkınız gitti\")\n",
    "        life = life - 1\n",
    "        print(life,\"Hakkınız kaldı\")\n",
    "        \n",
    "\n",
    "if liste == liste1:\n",
    "    print(\"Tebrikler kazandınız :) \")\n",
    "else:\n",
    "    print(\"Maalesef Kaybettiniz :(\")"
   ]
  }
 ],
 "metadata": {
  "kernelspec": {
   "display_name": "Python 3",
   "language": "python",
   "name": "python3"
  },
  "language_info": {
   "codemirror_mode": {
    "name": "ipython",
    "version": 3
   },
   "file_extension": ".py",
   "mimetype": "text/x-python",
   "name": "python",
   "nbconvert_exporter": "python",
   "pygments_lexer": "ipython3",
   "version": "3.8.5"
  }
 },
 "nbformat": 4,
 "nbformat_minor": 4
}
